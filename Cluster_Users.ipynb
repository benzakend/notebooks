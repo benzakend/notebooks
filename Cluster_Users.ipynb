{
 "cells": [
  {
   "cell_type": "code",
   "execution_count": 1,
   "metadata": {},
   "outputs": [],
   "source": [
    "from sklearn.preprocessing import StandardScaler\n",
    "from sklearn.cluster import KMeans\n",
    "import numpy as np\n",
    "import pandas as pd"
   ]
  },
  {
   "cell_type": "code",
   "execution_count": 2,
   "metadata": {},
   "outputs": [],
   "source": [
    "df = pd.read_csv('usersTable.csv')\n",
    "heavy_users = pd.read_csv('heavy_users.csv')\n"
   ]
  },
  {
   "cell_type": "code",
   "execution_count": 3,
   "metadata": {
    "scrolled": true
   },
   "outputs": [],
   "source": [
    "df_all = df.merge(heavy_users.drop_duplicates(), on='user_id', \n",
    "                   how='left', indicator=True)\n",
    "not_heavy = df_all[df_all._merge=='left_only']# removing the right side of the join\n",
    "not_heavy =not_heavy.drop(['_merge','session_duration','Ntask','Unnamed: 0','Unnamed: 1'], axis=1)\n"
   ]
  },
  {
   "cell_type": "code",
   "execution_count": 4,
   "metadata": {},
   "outputs": [],
   "source": [
    "npArray = df.drop(['Continent', 'user_id'], axis=1).values\n",
    "not_heavy_V = not_heavy.drop(['Continent', 'user_id','cohort_id'], axis=1).values\n"
   ]
  },
  {
   "cell_type": "code",
   "execution_count": 5,
   "metadata": {},
   "outputs": [
    {
     "data": {
      "text/plain": [
       "array([[  6.        ,  20.33333333, 945.        ,  42.63852814],\n",
       "       [  7.        ,   3.85714286, 137.28571429,  24.7952381 ],\n",
       "       [  1.        ,   2.        ,  13.        ,   6.5       ],\n",
       "       ...,\n",
       "       [  1.        ,   5.        , 118.        ,  23.6       ],\n",
       "       [  1.        ,  16.        , 475.        ,  29.6875    ],\n",
       "       [  1.        ,  10.        , 627.        ,  62.7       ]])"
      ]
     },
     "execution_count": 5,
     "metadata": {},
     "output_type": "execute_result"
    }
   ],
   "source": [
    "not_heavy_V"
   ]
  },
  {
   "cell_type": "code",
   "execution_count": 6,
   "metadata": {},
   "outputs": [],
   "source": [
    "scaler = StandardScaler()\n",
    "scaler.fit(not_heavy_V)\n",
    "dfN = scaler.transform(not_heavy_V)"
   ]
  },
  {
   "cell_type": "code",
   "execution_count": 7,
   "metadata": {},
   "outputs": [],
   "source": [
    "kmeans = KMeans(n_clusters=3, random_state=0).fit(dfN)"
   ]
  },
  {
   "cell_type": "code",
   "execution_count": 8,
   "metadata": {},
   "outputs": [
    {
     "data": {
      "text/plain": [
       "array([0, 0, 0, ..., 0, 0, 0])"
      ]
     },
     "execution_count": 8,
     "metadata": {},
     "output_type": "execute_result"
    }
   ],
   "source": [
    "kmeans.labels_"
   ]
  },
  {
   "cell_type": "code",
   "execution_count": 9,
   "metadata": {},
   "outputs": [],
   "source": [
    "lables=kmeans.predict(dfN)\n"
   ]
  },
  {
   "cell_type": "code",
   "execution_count": 10,
   "metadata": {},
   "outputs": [],
   "source": [
    "not_heavy['kmeans'] = lables"
   ]
  },
  {
   "cell_type": "code",
   "execution_count": 11,
   "metadata": {},
   "outputs": [
    {
     "data": {
      "text/plain": [
       "0    3551\n",
       "1    1231\n",
       "2      31\n",
       "Name: kmeans, dtype: int64"
      ]
     },
     "execution_count": 11,
     "metadata": {},
     "output_type": "execute_result"
    }
   ],
   "source": [
    "not_heavy[\"kmeans\"].value_counts()"
   ]
  },
  {
   "cell_type": "code",
   "execution_count": 12,
   "metadata": {},
   "outputs": [
    {
     "data": {
      "text/plain": [
       "array([[ 0.4460992 , -0.41694142],\n",
       "       [-1.10860741,  0.04104887],\n",
       "       [-1.46585535, -0.30755636],\n",
       "       ...,\n",
       "       [-1.12817587, -0.22501616],\n",
       "       [-0.29581477, -0.56616317],\n",
       "       [-0.18075049,  0.01977587]])"
      ]
     },
     "execution_count": 12,
     "metadata": {},
     "output_type": "execute_result"
    }
   ],
   "source": [
    "from sklearn.decomposition import PCA\n",
    "pca = PCA(n_components=2, svd_solver='full')\n",
    "pcas = pca.fit_transform(dfN)\n",
    "pcas"
   ]
  },
  {
   "cell_type": "code",
   "execution_count": 185,
   "metadata": {},
   "outputs": [
    {
     "data": {
      "text/plain": [
       "(4906L,)"
      ]
     },
     "execution_count": 185,
     "metadata": {},
     "output_type": "execute_result"
    }
   ],
   "source": [
    "pcas[:,1].shape"
   ]
  },
  {
   "cell_type": "code",
   "execution_count": 210,
   "metadata": {},
   "outputs": [
    {
     "data": {
      "text/html": [
       "<div>\n",
       "<style scoped>\n",
       "    .dataframe tbody tr th:only-of-type {\n",
       "        vertical-align: middle;\n",
       "    }\n",
       "\n",
       "    .dataframe tbody tr th {\n",
       "        vertical-align: top;\n",
       "    }\n",
       "\n",
       "    .dataframe thead th {\n",
       "        text-align: right;\n",
       "    }\n",
       "</style>\n",
       "<table border=\"1\" class=\"dataframe\">\n",
       "  <thead>\n",
       "    <tr style=\"text-align: right;\">\n",
       "      <th></th>\n",
       "      <th>user_id</th>\n",
       "      <th>Nsessions</th>\n",
       "      <th>Continent</th>\n",
       "      <th>cohort_id</th>\n",
       "      <th>AVG_Task_Session</th>\n",
       "      <th>AVG_length_Session</th>\n",
       "      <th>AVG_dwell_Session</th>\n",
       "      <th>kmeans</th>\n",
       "      <th>pca1</th>\n",
       "      <th>pca2</th>\n",
       "    </tr>\n",
       "  </thead>\n",
       "  <tbody>\n",
       "    <tr>\n",
       "      <th>0</th>\n",
       "      <td>27</td>\n",
       "      <td>6</td>\n",
       "      <td>Europe</td>\n",
       "      <td>1</td>\n",
       "      <td>20.333333</td>\n",
       "      <td>945.000000</td>\n",
       "      <td>42.638528</td>\n",
       "      <td>1</td>\n",
       "      <td>0.446099</td>\n",
       "      <td>-0.416941</td>\n",
       "    </tr>\n",
       "    <tr>\n",
       "      <th>2</th>\n",
       "      <td>35</td>\n",
       "      <td>7</td>\n",
       "      <td>North America</td>\n",
       "      <td>4</td>\n",
       "      <td>3.857143</td>\n",
       "      <td>137.285714</td>\n",
       "      <td>24.795238</td>\n",
       "      <td>1</td>\n",
       "      <td>-1.108607</td>\n",
       "      <td>0.041049</td>\n",
       "    </tr>\n",
       "    <tr>\n",
       "      <th>3</th>\n",
       "      <td>54</td>\n",
       "      <td>1</td>\n",
       "      <td>North America</td>\n",
       "      <td>1</td>\n",
       "      <td>2.000000</td>\n",
       "      <td>13.000000</td>\n",
       "      <td>6.500000</td>\n",
       "      <td>1</td>\n",
       "      <td>-1.465855</td>\n",
       "      <td>-0.307556</td>\n",
       "    </tr>\n",
       "    <tr>\n",
       "      <th>4</th>\n",
       "      <td>59</td>\n",
       "      <td>1</td>\n",
       "      <td>Europe</td>\n",
       "      <td>2</td>\n",
       "      <td>9.000000</td>\n",
       "      <td>1437.000000</td>\n",
       "      <td>159.666667</td>\n",
       "      <td>0</td>\n",
       "      <td>1.188238</td>\n",
       "      <td>1.127609</td>\n",
       "    </tr>\n",
       "    <tr>\n",
       "      <th>5</th>\n",
       "      <td>65</td>\n",
       "      <td>1</td>\n",
       "      <td>North America</td>\n",
       "      <td>5</td>\n",
       "      <td>10.000000</td>\n",
       "      <td>868.000000</td>\n",
       "      <td>86.800000</td>\n",
       "      <td>1</td>\n",
       "      <td>0.207064</td>\n",
       "      <td>0.284560</td>\n",
       "    </tr>\n",
       "  </tbody>\n",
       "</table>\n",
       "</div>"
      ],
      "text/plain": [
       "   user_id  Nsessions      Continent  cohort_id  AVG_Task_Session  \\\n",
       "0       27          6         Europe          1         20.333333   \n",
       "2       35          7  North America          4          3.857143   \n",
       "3       54          1  North America          1          2.000000   \n",
       "4       59          1         Europe          2          9.000000   \n",
       "5       65          1  North America          5         10.000000   \n",
       "\n",
       "   AVG_length_Session  AVG_dwell_Session  kmeans      pca1      pca2  \n",
       "0          945.000000          42.638528       1  0.446099 -0.416941  \n",
       "2          137.285714          24.795238       1 -1.108607  0.041049  \n",
       "3           13.000000           6.500000       1 -1.465855 -0.307556  \n",
       "4         1437.000000         159.666667       0  1.188238  1.127609  \n",
       "5          868.000000          86.800000       1  0.207064  0.284560  "
      ]
     },
     "execution_count": 210,
     "metadata": {},
     "output_type": "execute_result"
    }
   ],
   "source": [
    "not_heavy[\"pca1\"] = pcas[:,0]\n",
    "not_heavy[\"pca2\"] = pcas[:,1]\n",
    "not_heavy.head(5)"
   ]
  },
  {
   "cell_type": "code",
   "execution_count": 27,
   "metadata": {
    "collapsed": true
   },
   "outputs": [
    {
     "ename": "KeyError",
     "evalue": "'kmeans'",
     "output_type": "error",
     "traceback": [
      "\u001b[1;31m---------------------------------------------------------------------------\u001b[0m",
      "\u001b[1;31mKeyError\u001b[0m                                  Traceback (most recent call last)",
      "\u001b[1;32m<ipython-input-27-827de4557e3d>\u001b[0m in \u001b[0;36m<module>\u001b[1;34m()\u001b[0m\n\u001b[1;32m----> 1\u001b[1;33m \u001b[0mdf\u001b[0m\u001b[1;33m[\u001b[0m\u001b[0mdf\u001b[0m\u001b[1;33m[\u001b[0m\u001b[1;34m\"kmeans\"\u001b[0m\u001b[1;33m]\u001b[0m\u001b[1;33m==\u001b[0m\u001b[1;36m0\u001b[0m\u001b[1;33m]\u001b[0m\u001b[1;33m.\u001b[0m\u001b[0mdescribe\u001b[0m\u001b[1;33m(\u001b[0m\u001b[1;33m)\u001b[0m\u001b[1;33m\u001b[0m\u001b[0m\n\u001b[0m",
      "\u001b[1;32mc:\\python27\\lib\\site-packages\\pandas\\core\\frame.pyc\u001b[0m in \u001b[0;36m__getitem__\u001b[1;34m(self, key)\u001b[0m\n\u001b[0;32m   2925\u001b[0m             \u001b[1;32mif\u001b[0m \u001b[0mself\u001b[0m\u001b[1;33m.\u001b[0m\u001b[0mcolumns\u001b[0m\u001b[1;33m.\u001b[0m\u001b[0mnlevels\u001b[0m \u001b[1;33m>\u001b[0m \u001b[1;36m1\u001b[0m\u001b[1;33m:\u001b[0m\u001b[1;33m\u001b[0m\u001b[0m\n\u001b[0;32m   2926\u001b[0m                 \u001b[1;32mreturn\u001b[0m \u001b[0mself\u001b[0m\u001b[1;33m.\u001b[0m\u001b[0m_getitem_multilevel\u001b[0m\u001b[1;33m(\u001b[0m\u001b[0mkey\u001b[0m\u001b[1;33m)\u001b[0m\u001b[1;33m\u001b[0m\u001b[0m\n\u001b[1;32m-> 2927\u001b[1;33m             \u001b[0mindexer\u001b[0m \u001b[1;33m=\u001b[0m \u001b[0mself\u001b[0m\u001b[1;33m.\u001b[0m\u001b[0mcolumns\u001b[0m\u001b[1;33m.\u001b[0m\u001b[0mget_loc\u001b[0m\u001b[1;33m(\u001b[0m\u001b[0mkey\u001b[0m\u001b[1;33m)\u001b[0m\u001b[1;33m\u001b[0m\u001b[0m\n\u001b[0m\u001b[0;32m   2928\u001b[0m             \u001b[1;32mif\u001b[0m \u001b[0mis_integer\u001b[0m\u001b[1;33m(\u001b[0m\u001b[0mindexer\u001b[0m\u001b[1;33m)\u001b[0m\u001b[1;33m:\u001b[0m\u001b[1;33m\u001b[0m\u001b[0m\n\u001b[0;32m   2929\u001b[0m                 \u001b[0mindexer\u001b[0m \u001b[1;33m=\u001b[0m \u001b[1;33m[\u001b[0m\u001b[0mindexer\u001b[0m\u001b[1;33m]\u001b[0m\u001b[1;33m\u001b[0m\u001b[0m\n",
      "\u001b[1;32mc:\\python27\\lib\\site-packages\\pandas\\core\\indexes\\base.pyc\u001b[0m in \u001b[0;36mget_loc\u001b[1;34m(self, key, method, tolerance)\u001b[0m\n\u001b[0;32m   2657\u001b[0m                 \u001b[1;32mreturn\u001b[0m \u001b[0mself\u001b[0m\u001b[1;33m.\u001b[0m\u001b[0m_engine\u001b[0m\u001b[1;33m.\u001b[0m\u001b[0mget_loc\u001b[0m\u001b[1;33m(\u001b[0m\u001b[0mkey\u001b[0m\u001b[1;33m)\u001b[0m\u001b[1;33m\u001b[0m\u001b[0m\n\u001b[0;32m   2658\u001b[0m             \u001b[1;32mexcept\u001b[0m \u001b[0mKeyError\u001b[0m\u001b[1;33m:\u001b[0m\u001b[1;33m\u001b[0m\u001b[0m\n\u001b[1;32m-> 2659\u001b[1;33m                 \u001b[1;32mreturn\u001b[0m \u001b[0mself\u001b[0m\u001b[1;33m.\u001b[0m\u001b[0m_engine\u001b[0m\u001b[1;33m.\u001b[0m\u001b[0mget_loc\u001b[0m\u001b[1;33m(\u001b[0m\u001b[0mself\u001b[0m\u001b[1;33m.\u001b[0m\u001b[0m_maybe_cast_indexer\u001b[0m\u001b[1;33m(\u001b[0m\u001b[0mkey\u001b[0m\u001b[1;33m)\u001b[0m\u001b[1;33m)\u001b[0m\u001b[1;33m\u001b[0m\u001b[0m\n\u001b[0m\u001b[0;32m   2660\u001b[0m         \u001b[0mindexer\u001b[0m \u001b[1;33m=\u001b[0m \u001b[0mself\u001b[0m\u001b[1;33m.\u001b[0m\u001b[0mget_indexer\u001b[0m\u001b[1;33m(\u001b[0m\u001b[1;33m[\u001b[0m\u001b[0mkey\u001b[0m\u001b[1;33m]\u001b[0m\u001b[1;33m,\u001b[0m \u001b[0mmethod\u001b[0m\u001b[1;33m=\u001b[0m\u001b[0mmethod\u001b[0m\u001b[1;33m,\u001b[0m \u001b[0mtolerance\u001b[0m\u001b[1;33m=\u001b[0m\u001b[0mtolerance\u001b[0m\u001b[1;33m)\u001b[0m\u001b[1;33m\u001b[0m\u001b[0m\n\u001b[0;32m   2661\u001b[0m         \u001b[1;32mif\u001b[0m \u001b[0mindexer\u001b[0m\u001b[1;33m.\u001b[0m\u001b[0mndim\u001b[0m \u001b[1;33m>\u001b[0m \u001b[1;36m1\u001b[0m \u001b[1;32mor\u001b[0m \u001b[0mindexer\u001b[0m\u001b[1;33m.\u001b[0m\u001b[0msize\u001b[0m \u001b[1;33m>\u001b[0m \u001b[1;36m1\u001b[0m\u001b[1;33m:\u001b[0m\u001b[1;33m\u001b[0m\u001b[0m\n",
      "\u001b[1;32mpandas\\_libs\\index.pyx\u001b[0m in \u001b[0;36mpandas._libs.index.IndexEngine.get_loc\u001b[1;34m()\u001b[0m\n",
      "\u001b[1;32mpandas\\_libs\\index.pyx\u001b[0m in \u001b[0;36mpandas._libs.index.IndexEngine.get_loc\u001b[1;34m()\u001b[0m\n",
      "\u001b[1;32mpandas\\_libs\\hashtable_class_helper.pxi\u001b[0m in \u001b[0;36mpandas._libs.hashtable.PyObjectHashTable.get_item\u001b[1;34m()\u001b[0m\n",
      "\u001b[1;32mpandas\\_libs\\hashtable_class_helper.pxi\u001b[0m in \u001b[0;36mpandas._libs.hashtable.PyObjectHashTable.get_item\u001b[1;34m()\u001b[0m\n",
      "\u001b[1;31mKeyError\u001b[0m: 'kmeans'"
     ]
    }
   ],
   "source": [
    "df[df[\"kmeans\"]==0].describe()"
   ]
  },
  {
   "cell_type": "code",
   "execution_count": 188,
   "metadata": {
    "collapsed": true
   },
   "outputs": [
    {
     "data": {
      "text/html": [
       "<div>\n",
       "<style scoped>\n",
       "    .dataframe tbody tr th:only-of-type {\n",
       "        vertical-align: middle;\n",
       "    }\n",
       "\n",
       "    .dataframe tbody tr th {\n",
       "        vertical-align: top;\n",
       "    }\n",
       "\n",
       "    .dataframe thead th {\n",
       "        text-align: right;\n",
       "    }\n",
       "</style>\n",
       "<table border=\"1\" class=\"dataframe\">\n",
       "  <thead>\n",
       "    <tr style=\"text-align: right;\">\n",
       "      <th></th>\n",
       "      <th>user_id</th>\n",
       "      <th>Unnamed: 1</th>\n",
       "      <th>Nsessions</th>\n",
       "      <th>cohort_id</th>\n",
       "      <th>AVG_Task_Session</th>\n",
       "      <th>AVG_length_Session</th>\n",
       "      <th>AVG_dwell_Session</th>\n",
       "      <th>kmeans</th>\n",
       "      <th>pca1</th>\n",
       "      <th>pca2</th>\n",
       "    </tr>\n",
       "  </thead>\n",
       "  <tbody>\n",
       "    <tr>\n",
       "      <th>count</th>\n",
       "      <td>3.803000e+03</td>\n",
       "      <td>3803.0</td>\n",
       "      <td>3803.000000</td>\n",
       "      <td>3803.000000</td>\n",
       "      <td>3803.000000</td>\n",
       "      <td>3803.000000</td>\n",
       "      <td>3803.000000</td>\n",
       "      <td>3803.0</td>\n",
       "      <td>3803.000000</td>\n",
       "      <td>3803.000000</td>\n",
       "    </tr>\n",
       "    <tr>\n",
       "      <th>mean</th>\n",
       "      <td>1.480086e+06</td>\n",
       "      <td>0.0</td>\n",
       "      <td>2.799106</td>\n",
       "      <td>2.586642</td>\n",
       "      <td>8.410382</td>\n",
       "      <td>402.612901</td>\n",
       "      <td>45.513384</td>\n",
       "      <td>1.0</td>\n",
       "      <td>-0.542622</td>\n",
       "      <td>-0.070223</td>\n",
       "    </tr>\n",
       "    <tr>\n",
       "      <th>std</th>\n",
       "      <td>6.557381e+05</td>\n",
       "      <td>0.0</td>\n",
       "      <td>5.697728</td>\n",
       "      <td>1.665806</td>\n",
       "      <td>8.066833</td>\n",
       "      <td>347.547885</td>\n",
       "      <td>33.142650</td>\n",
       "      <td>0.0</td>\n",
       "      <td>0.553654</td>\n",
       "      <td>0.579654</td>\n",
       "    </tr>\n",
       "    <tr>\n",
       "      <th>min</th>\n",
       "      <td>2.700000e+01</td>\n",
       "      <td>0.0</td>\n",
       "      <td>1.000000</td>\n",
       "      <td>0.000000</td>\n",
       "      <td>1.000000</td>\n",
       "      <td>0.000000</td>\n",
       "      <td>0.000000</td>\n",
       "      <td>1.0</td>\n",
       "      <td>-1.382657</td>\n",
       "      <td>-2.391540</td>\n",
       "    </tr>\n",
       "    <tr>\n",
       "      <th>25%</th>\n",
       "      <td>1.259166e+06</td>\n",
       "      <td>0.0</td>\n",
       "      <td>1.000000</td>\n",
       "      <td>1.000000</td>\n",
       "      <td>3.000000</td>\n",
       "      <td>112.900000</td>\n",
       "      <td>24.601974</td>\n",
       "      <td>1.0</td>\n",
       "      <td>-0.980593</td>\n",
       "      <td>-0.470676</td>\n",
       "    </tr>\n",
       "    <tr>\n",
       "      <th>50%</th>\n",
       "      <td>1.886009e+06</td>\n",
       "      <td>0.0</td>\n",
       "      <td>1.000000</td>\n",
       "      <td>3.000000</td>\n",
       "      <td>5.800000</td>\n",
       "      <td>314.000000</td>\n",
       "      <td>40.555556</td>\n",
       "      <td>1.0</td>\n",
       "      <td>-0.610366</td>\n",
       "      <td>-0.094534</td>\n",
       "    </tr>\n",
       "    <tr>\n",
       "      <th>75%</th>\n",
       "      <td>1.912272e+06</td>\n",
       "      <td>0.0</td>\n",
       "      <td>2.000000</td>\n",
       "      <td>4.000000</td>\n",
       "      <td>11.000000</td>\n",
       "      <td>626.566667</td>\n",
       "      <td>61.820982</td>\n",
       "      <td>1.0</td>\n",
       "      <td>-0.146808</td>\n",
       "      <td>0.256799</td>\n",
       "    </tr>\n",
       "    <tr>\n",
       "      <th>max</th>\n",
       "      <td>1.928360e+06</td>\n",
       "      <td>0.0</td>\n",
       "      <td>74.000000</td>\n",
       "      <td>5.000000</td>\n",
       "      <td>72.500000</td>\n",
       "      <td>1627.500000</td>\n",
       "      <td>206.500000</td>\n",
       "      <td>1.0</td>\n",
       "      <td>0.939554</td>\n",
       "      <td>2.820388</td>\n",
       "    </tr>\n",
       "  </tbody>\n",
       "</table>\n",
       "</div>"
      ],
      "text/plain": [
       "            user_id  Unnamed: 1    Nsessions    cohort_id  AVG_Task_Session  \\\n",
       "count  3.803000e+03      3803.0  3803.000000  3803.000000       3803.000000   \n",
       "mean   1.480086e+06         0.0     2.799106     2.586642          8.410382   \n",
       "std    6.557381e+05         0.0     5.697728     1.665806          8.066833   \n",
       "min    2.700000e+01         0.0     1.000000     0.000000          1.000000   \n",
       "25%    1.259166e+06         0.0     1.000000     1.000000          3.000000   \n",
       "50%    1.886009e+06         0.0     1.000000     3.000000          5.800000   \n",
       "75%    1.912272e+06         0.0     2.000000     4.000000         11.000000   \n",
       "max    1.928360e+06         0.0    74.000000     5.000000         72.500000   \n",
       "\n",
       "       AVG_length_Session  AVG_dwell_Session  kmeans         pca1         pca2  \n",
       "count         3803.000000        3803.000000  3803.0  3803.000000  3803.000000  \n",
       "mean           402.612901          45.513384     1.0    -0.542622    -0.070223  \n",
       "std            347.547885          33.142650     0.0     0.553654     0.579654  \n",
       "min              0.000000           0.000000     1.0    -1.382657    -2.391540  \n",
       "25%            112.900000          24.601974     1.0    -0.980593    -0.470676  \n",
       "50%            314.000000          40.555556     1.0    -0.610366    -0.094534  \n",
       "75%            626.566667          61.820982     1.0    -0.146808     0.256799  \n",
       "max           1627.500000         206.500000     1.0     0.939554     2.820388  "
      ]
     },
     "execution_count": 188,
     "metadata": {},
     "output_type": "execute_result"
    }
   ],
   "source": [
    "df[df[\"kmeans\"]==1].describe()"
   ]
  },
  {
   "cell_type": "code",
   "execution_count": 189,
   "metadata": {},
   "outputs": [
    {
     "data": {
      "text/html": [
       "<div>\n",
       "<style scoped>\n",
       "    .dataframe tbody tr th:only-of-type {\n",
       "        vertical-align: middle;\n",
       "    }\n",
       "\n",
       "    .dataframe tbody tr th {\n",
       "        vertical-align: top;\n",
       "    }\n",
       "\n",
       "    .dataframe thead th {\n",
       "        text-align: right;\n",
       "    }\n",
       "</style>\n",
       "<table border=\"1\" class=\"dataframe\">\n",
       "  <thead>\n",
       "    <tr style=\"text-align: right;\">\n",
       "      <th></th>\n",
       "      <th>user_id</th>\n",
       "      <th>Unnamed: 1</th>\n",
       "      <th>Nsessions</th>\n",
       "      <th>cohort_id</th>\n",
       "      <th>AVG_Task_Session</th>\n",
       "      <th>AVG_length_Session</th>\n",
       "      <th>AVG_dwell_Session</th>\n",
       "      <th>kmeans</th>\n",
       "      <th>pca1</th>\n",
       "      <th>pca2</th>\n",
       "    </tr>\n",
       "  </thead>\n",
       "  <tbody>\n",
       "    <tr>\n",
       "      <th>count</th>\n",
       "      <td>3.100000e+01</td>\n",
       "      <td>31.0</td>\n",
       "      <td>31.000000</td>\n",
       "      <td>31.000000</td>\n",
       "      <td>31.000000</td>\n",
       "      <td>31.000000</td>\n",
       "      <td>31.000000</td>\n",
       "      <td>31.0</td>\n",
       "      <td>31.000000</td>\n",
       "      <td>31.000000</td>\n",
       "    </tr>\n",
       "    <tr>\n",
       "      <th>mean</th>\n",
       "      <td>1.061941e+06</td>\n",
       "      <td>0.0</td>\n",
       "      <td>169.709677</td>\n",
       "      <td>2.741935</td>\n",
       "      <td>11.898727</td>\n",
       "      <td>1103.226299</td>\n",
       "      <td>108.263557</td>\n",
       "      <td>2.0</td>\n",
       "      <td>1.404076</td>\n",
       "      <td>5.862549</td>\n",
       "    </tr>\n",
       "    <tr>\n",
       "      <th>std</th>\n",
       "      <td>7.857569e+05</td>\n",
       "      <td>0.0</td>\n",
       "      <td>85.004782</td>\n",
       "      <td>1.672677</td>\n",
       "      <td>9.726709</td>\n",
       "      <td>736.859601</td>\n",
       "      <td>77.794087</td>\n",
       "      <td>0.0</td>\n",
       "      <td>1.210877</td>\n",
       "      <td>3.182141</td>\n",
       "    </tr>\n",
       "    <tr>\n",
       "      <th>min</th>\n",
       "      <td>1.230000e+02</td>\n",
       "      <td>0.0</td>\n",
       "      <td>90.000000</td>\n",
       "      <td>0.000000</td>\n",
       "      <td>1.184524</td>\n",
       "      <td>56.928571</td>\n",
       "      <td>21.798515</td>\n",
       "      <td>2.0</td>\n",
       "      <td>-0.644193</td>\n",
       "      <td>1.673205</td>\n",
       "    </tr>\n",
       "    <tr>\n",
       "      <th>25%</th>\n",
       "      <td>1.918125e+05</td>\n",
       "      <td>0.0</td>\n",
       "      <td>106.500000</td>\n",
       "      <td>2.000000</td>\n",
       "      <td>4.489232</td>\n",
       "      <td>469.169730</td>\n",
       "      <td>50.209925</td>\n",
       "      <td>2.0</td>\n",
       "      <td>0.454020</td>\n",
       "      <td>3.627502</td>\n",
       "    </tr>\n",
       "    <tr>\n",
       "      <th>50%</th>\n",
       "      <td>1.304474e+06</td>\n",
       "      <td>0.0</td>\n",
       "      <td>140.000000</td>\n",
       "      <td>3.000000</td>\n",
       "      <td>9.508197</td>\n",
       "      <td>905.233333</td>\n",
       "      <td>91.034273</td>\n",
       "      <td>2.0</td>\n",
       "      <td>1.391033</td>\n",
       "      <td>4.996169</td>\n",
       "    </tr>\n",
       "    <tr>\n",
       "      <th>75%</th>\n",
       "      <td>1.844318e+06</td>\n",
       "      <td>0.0</td>\n",
       "      <td>208.000000</td>\n",
       "      <td>4.000000</td>\n",
       "      <td>14.943483</td>\n",
       "      <td>1779.263234</td>\n",
       "      <td>135.936269</td>\n",
       "      <td>2.0</td>\n",
       "      <td>2.315063</td>\n",
       "      <td>7.698665</td>\n",
       "    </tr>\n",
       "    <tr>\n",
       "      <th>max</th>\n",
       "      <td>1.903025e+06</td>\n",
       "      <td>0.0</td>\n",
       "      <td>461.000000</td>\n",
       "      <td>5.000000</td>\n",
       "      <td>40.503650</td>\n",
       "      <td>2925.304348</td>\n",
       "      <td>294.325733</td>\n",
       "      <td>2.0</td>\n",
       "      <td>3.942637</td>\n",
       "      <td>15.883225</td>\n",
       "    </tr>\n",
       "  </tbody>\n",
       "</table>\n",
       "</div>"
      ],
      "text/plain": [
       "            user_id  Unnamed: 1   Nsessions  cohort_id  AVG_Task_Session  \\\n",
       "count  3.100000e+01        31.0   31.000000  31.000000         31.000000   \n",
       "mean   1.061941e+06         0.0  169.709677   2.741935         11.898727   \n",
       "std    7.857569e+05         0.0   85.004782   1.672677          9.726709   \n",
       "min    1.230000e+02         0.0   90.000000   0.000000          1.184524   \n",
       "25%    1.918125e+05         0.0  106.500000   2.000000          4.489232   \n",
       "50%    1.304474e+06         0.0  140.000000   3.000000          9.508197   \n",
       "75%    1.844318e+06         0.0  208.000000   4.000000         14.943483   \n",
       "max    1.903025e+06         0.0  461.000000   5.000000         40.503650   \n",
       "\n",
       "       AVG_length_Session  AVG_dwell_Session  kmeans       pca1       pca2  \n",
       "count           31.000000          31.000000    31.0  31.000000  31.000000  \n",
       "mean          1103.226299         108.263557     2.0   1.404076   5.862549  \n",
       "std            736.859601          77.794087     0.0   1.210877   3.182141  \n",
       "min             56.928571          21.798515     2.0  -0.644193   1.673205  \n",
       "25%            469.169730          50.209925     2.0   0.454020   3.627502  \n",
       "50%            905.233333          91.034273     2.0   1.391033   4.996169  \n",
       "75%           1779.263234         135.936269     2.0   2.315063   7.698665  \n",
       "max           2925.304348         294.325733     2.0   3.942637  15.883225  "
      ]
     },
     "execution_count": 189,
     "metadata": {},
     "output_type": "execute_result"
    }
   ],
   "source": [
    "df[df[\"kmeans\"]==2].describe()"
   ]
  },
  {
   "cell_type": "code",
   "execution_count": 190,
   "metadata": {
    "collapsed": true
   },
   "outputs": [
    {
     "data": {
      "text/plain": [
       "0.000000       419\n",
       "147.000000      10\n",
       "103.000000      10\n",
       "87.000000        9\n",
       "88.000000        9\n",
       "77.000000        9\n",
       "189.000000       8\n",
       "23.000000        8\n",
       "60.000000        8\n",
       "75.000000        8\n",
       "235.000000       8\n",
       "170.000000       8\n",
       "151.000000       8\n",
       "179.000000       7\n",
       "501.000000       7\n",
       "214.000000       7\n",
       "150.000000       7\n",
       "91.000000        7\n",
       "71.000000        7\n",
       "114.000000       7\n",
       "81.000000        7\n",
       "456.000000       7\n",
       "274.000000       7\n",
       "109.000000       7\n",
       "66.000000        7\n",
       "96.000000        7\n",
       "521.000000       7\n",
       "140.000000       7\n",
       "110.000000       7\n",
       "333.000000       7\n",
       "              ... \n",
       "1237.500000      1\n",
       "1192.500000      1\n",
       "2216.000000      1\n",
       "469.857143       1\n",
       "634.250000       1\n",
       "994.000000       1\n",
       "339.000000       1\n",
       "530.666667       1\n",
       "329.000000       1\n",
       "729.000000       1\n",
       "33.333333        1\n",
       "1765.000000      1\n",
       "1351.000000      1\n",
       "1150.250000      1\n",
       "592.500000       1\n",
       "1242.500000      1\n",
       "114.519231       1\n",
       "668.333333       1\n",
       "302.500000       1\n",
       "1967.000000      1\n",
       "411.500000       1\n",
       "2099.500000      1\n",
       "1281.000000      1\n",
       "91.400000        1\n",
       "3481.285714      1\n",
       "614.800000       1\n",
       "151.200000       1\n",
       "375.750000       1\n",
       "1955.000000      1\n",
       "137.285714       1\n",
       "Name: AVG_length_Session, Length: 2778, dtype: int64"
      ]
     },
     "execution_count": 190,
     "metadata": {},
     "output_type": "execute_result"
    }
   ],
   "source": [
    "df[\"AVG_length_Session\"].value_counts()"
   ]
  },
  {
   "cell_type": "code",
   "execution_count": 13,
   "metadata": {
    "scrolled": true
   },
   "outputs": [],
   "source": [
    "import matplotlib.pyplot as plt\n",
    "from mpl_toolkits.mplot3d import Axes3D\n",
    "fig = plt.figure()\n",
    "ax = fig.add_subplot(111, projection='3d')"
   ]
  },
  {
   "cell_type": "code",
   "execution_count": 33,
   "metadata": {},
   "outputs": [
    {
     "ename": "AttributeError",
     "evalue": "'numpy.ndarray' object has no attribute 'pca1'",
     "output_type": "error",
     "traceback": [
      "\u001b[1;31m---------------------------------------------------------------------------\u001b[0m",
      "\u001b[1;31mAttributeError\u001b[0m                            Traceback (most recent call last)",
      "\u001b[1;32m<ipython-input-33-a6002fd2c52a>\u001b[0m in \u001b[0;36m<module>\u001b[1;34m()\u001b[0m\n\u001b[1;32m----> 1\u001b[1;33m \u001b[0mplt\u001b[0m\u001b[1;33m.\u001b[0m\u001b[0mscatter\u001b[0m\u001b[1;33m(\u001b[0m\u001b[0mnot_havy\u001b[0m\u001b[1;33m.\u001b[0m\u001b[0mpca1\u001b[0m\u001b[1;33m,\u001b[0m \u001b[0mnot_havy\u001b[0m\u001b[1;33m.\u001b[0m\u001b[0mpca2\u001b[0m\u001b[1;33m,\u001b[0m\u001b[0mc\u001b[0m\u001b[1;33m=\u001b[0m\u001b[0mkmeans\u001b[0m\u001b[1;33m.\u001b[0m\u001b[0mlabels_\u001b[0m \u001b[1;33m)\u001b[0m\u001b[1;33m\u001b[0m\u001b[0m\n\u001b[0m\u001b[0;32m      2\u001b[0m \u001b[1;33m\u001b[0m\u001b[0m\n\u001b[0;32m      3\u001b[0m \u001b[0mplt\u001b[0m\u001b[1;33m.\u001b[0m\u001b[0mxlabel\u001b[0m\u001b[1;33m(\u001b[0m\u001b[1;34m\"pca1\"\u001b[0m\u001b[1;33m)\u001b[0m\u001b[1;33m\u001b[0m\u001b[0m\n\u001b[0;32m      4\u001b[0m \u001b[0mplt\u001b[0m\u001b[1;33m.\u001b[0m\u001b[0mylabel\u001b[0m\u001b[1;33m(\u001b[0m\u001b[1;34m\"pca2\"\u001b[0m\u001b[1;33m)\u001b[0m\u001b[1;33m\u001b[0m\u001b[0m\n\u001b[0;32m      5\u001b[0m \u001b[0mplt\u001b[0m\u001b[1;33m.\u001b[0m\u001b[0mshow\u001b[0m\u001b[1;33m(\u001b[0m\u001b[1;33m)\u001b[0m\u001b[1;33m\u001b[0m\u001b[0m\n",
      "\u001b[1;31mAttributeError\u001b[0m: 'numpy.ndarray' object has no attribute 'pca1'"
     ]
    }
   ],
   "source": [
    "plt.scatter(not_havy.pca1, not_havy.pca2,c=kmeans.labels_ )\n",
    "plt.xlabel(\"pca1\")\n",
    "plt.ylabel(\"pca2\")\n",
    "plt.show()"
   ]
  },
  {
   "cell_type": "code",
   "execution_count": 219,
   "metadata": {},
   "outputs": [
    {
     "ename": "AttributeError",
     "evalue": "'module' object has no attribute 'tools'",
     "output_type": "error",
     "traceback": [
      "\u001b[1;31m---------------------------------------------------------------------------\u001b[0m",
      "\u001b[1;31mAttributeError\u001b[0m                            Traceback (most recent call last)",
      "\u001b[1;32m<ipython-input-219-13806b1f0a89>\u001b[0m in \u001b[0;36m<module>\u001b[1;34m()\u001b[0m\n\u001b[1;32m----> 1\u001b[1;33m \u001b[0mpd\u001b[0m\u001b[1;33m.\u001b[0m\u001b[0mtools\u001b[0m\u001b[1;33m.\u001b[0m\u001b[0mplotting\u001b[0m\u001b[1;33m.\u001b[0m\u001b[0mparallel_coordinates\u001b[0m\u001b[1;33m(\u001b[0m\u001b[0mdata\u001b[0m\u001b[1;33m,\u001b[0m \u001b[1;34m'kmeans'\u001b[0m\u001b[1;33m)\u001b[0m\u001b[1;33m\u001b[0m\u001b[0m\n\u001b[0m",
      "\u001b[1;31mAttributeError\u001b[0m: 'module' object has no attribute 'tools'"
     ]
    }
   ],
   "source": [
    "pd.tools.plotting.parallel_coordinates(data, 'kmeans')"
   ]
  },
  {
   "cell_type": "code",
   "execution_count": 14,
   "metadata": {
    "scrolled": false
   },
   "outputs": [
    {
     "data": {
      "image/png": "[encoded data removed]",
      "text/plain": [
       "<Figure size 432x288 with 1 Axes>"
      ]
     },
     "metadata": {
      "needs_background": "light"
     },
     "output_type": "display_data"
    }
   ],
   "source": [
    "from mpl_toolkits import mplot3d\n",
    "import matplotlib.pyplot as plt\n",
    "\n",
    "%matplotlib inline\n",
    "fig = plt.figure()\n",
    "ax = fig.add_subplot(111, projection='3d')\n",
    "x = np.array(not_heavy['Nsessions'])\n",
    "y = np.array(not_heavy['AVG_Task_Session'])\n",
    "z = np.array(not_heavy['AVG_dwell_Session'])\n",
    "\n",
    "ax.scatter(x,y,z,  marker='o', c=not_heavy[\"kmeans\"])\n",
    "\n",
    "ax.set_xlabel('Nsessions')\n",
    "ax.set_ylabel('AVG_Task_Session')\n",
    "ax.set_zlabel('AVG_dwell_Session')\n",
    "plt.show()\n",
    "\n"
   ]
  },
  {
   "cell_type": "code",
   "execution_count": 15,
   "metadata": {},
   "outputs": [
    {
     "data": {
      "text/plain": [
       "3    2419\n",
       "2    1652\n",
       "4     326\n",
       "1     289\n",
       "5     102\n",
       "0      25\n",
       "Name: Continent_code, dtype: int64"
      ]
     },
     "execution_count": 15,
     "metadata": {},
     "output_type": "execute_result"
    }
   ],
   "source": [
    "not_heavy['Continent_code'] = not_heavy['Continent'].astype('category').cat.codes\n",
    "not_heavy.Continent_code.value_counts()"
   ]
  },
  {
   "cell_type": "code",
   "execution_count": 61,
   "metadata": {
    "scrolled": false
   },
   "outputs": [
    {
     "data": {
      "image/png": "[encoded data removed]",
      "text/plain": [
       "<Figure size 432x288 with 1 Axes>"
      ]
     },
     "metadata": {
      "needs_background": "light"
     },
     "output_type": "display_data"
    }
   ],
   "source": [
    "import matplotlib\n",
    "\n",
    "%matplotlib inline\n",
    "fig = plt.figure()\n",
    "ax = fig.add_subplot(111, projection='3d')\n",
    "x = np.array(not_heavy['Nsessions'])\n",
    "y = np.array(not_heavy['AVG_Task_Session'])\n",
    "z = np.array(not_heavy['AVG_dwell_Session'])\n",
    "\n",
    "colors = ['red','green','blue','purple','black','pink']\n",
    "\n",
    "line = ax.scatter(x,y,z,  marker='o', c=not_heavy[\"Continent_code\"],cmap=matplotlib.colors.ListedColormap(colors))\n",
    "#line = ax.scatter(x,y,z,  marker='o', c=not_heavy[\"Continent_code\"][not_heavy['Continent_code'] == 1])\n",
    "\n",
    "ax.set_xlabel('Nsessions')\n",
    "ax.set_ylabel('AVG_Task_Session')\n",
    "ax.set_zlabel('AVG_dwell_Session')\n",
    "plt.legend(loc='upper left',fontsize=8)\n",
    "\n",
    "plt.show()\n"
   ]
  },
  {
   "cell_type": "code",
   "execution_count": 71,
   "metadata": {},
   "outputs": [
    {
     "data": {
      "image/png": "[encoded data removed]",
      "text/plain": [
       "<Figure size 432x288 with 1 Axes>"
      ]
     },
     "metadata": {
      "needs_background": "light"
     },
     "output_type": "display_data"
    }
   ],
   "source": [
    "import matplotlib\n",
    "\n",
    "%matplotlib inline\n",
    "fig = plt.figure()\n",
    "ax = fig.add_subplot(111, projection='3d')\n",
    "x = np.array(not_heavy['Nsessions'])\n",
    "y = np.array(not_heavy['AVG_Task_Session'])\n",
    "z = np.array(not_heavy['AVG_dwell_Session'])\n",
    "L = not_heavy[\"Continent\"]\n",
    "names = set(L)\n",
    "for name in names:\n",
    "    cond = L == name\n",
    "    plt.plot(x[cond], y[cond],z[cond], linestyle='none', marker='o', label=name)\n",
    "ax.set_xlabel('Nsessions')\n",
    "ax.set_ylabel('AVG_Task_Session')\n",
    "ax.set_zlabel('AVG_dwell_Session')\n",
    "plt.legend(loc='upper right',fontsize=8)\n",
    "\n",
    "plt.show()\n"
   ]
  },
  {
   "cell_type": "code",
   "execution_count": null,
   "metadata": {},
   "outputs": [],
   "source": []
  }
 ],
 "metadata": {
  "kernelspec": {
   "display_name": "Python 2",
   "language": "python",
   "name": "python2"
  },
  "language_info": {
   "codemirror_mode": {
    "name": "ipython",
    "version": 2
   },
   "file_extension": ".py",
   "mimetype": "text/x-python",
   "name": "python",
   "nbconvert_exporter": "python",
   "pygments_lexer": "ipython2",
   "version": "2.7.17"
  }
 },
 "nbformat": 4,
 "nbformat_minor": 2
}
