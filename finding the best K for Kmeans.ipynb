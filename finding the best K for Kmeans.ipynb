{
 "cells": [
  {
   "cell_type": "code",
   "execution_count": 1,
   "metadata": {},
   "outputs": [],
   "source": [
    "from sklearn.preprocessing import StandardScaler\n",
    "from sklearn.cluster import KMeans\n",
    "import numpy as np\n",
    "import pandas as pd"
   ]
  },
  {
   "cell_type": "code",
   "execution_count": 2,
   "metadata": {},
   "outputs": [],
   "source": [
    "df = pd.read_csv('usersTable.csv')\n",
    "npArray = df.drop(['Continent', 'user_id'], axis=1).values\n",
    "scaler = StandardScaler()\n",
    "scaler.fit(npArray)\n",
    "dfN = scaler.transform(npArray)"
   ]
  },
  {
   "cell_type": "code",
   "execution_count": 3,
   "metadata": {},
   "outputs": [
    {
     "name": "stdout",
     "output_type": "stream",
     "text": [
      "k: 1  cost: 19624.000000000004\n",
      "k: 2  cost: 14526.939082434636\n",
      "k: 3  cost: 11223.245914771544\n",
      "k: 4  cost: 8541.054411236557\n",
      "k: 5  cost: 7050.310026072046\n",
      "k: 6  cost: 6079.504119778172\n",
      "k: 7  cost: 5358.0486378581545\n",
      "k: 8  cost: 4692.573900900699\n",
      "k: 9  cost: 4135.202418024839\n",
      "k: 10  cost: 3687.529193205151\n"
     ]
    }
   ],
   "source": [
    "# kmeans = KMeans(n_clusters=3, random_state=0).fit(dfN)\n",
    "for k in range (1, 11):\n",
    " \n",
    "\t# Create a kmeans model on our data, using k clusters.  random_state helps ensure that the algorithm returns the same results each time.\n",
    "\tkmeans_model = KMeans(n_clusters=k, random_state=1).fit(dfN)\n",
    "\t\n",
    "\t# These are our fitted labels for clusters -- the first cluster has label 0, and the second has label 1.\n",
    "\tlabels = kmeans_model.labels_\n",
    " \n",
    "\t# Sum of distances of samples to their closest cluster center\n",
    "\tinteria = kmeans_model.inertia_\n",
    "\tprint \"k:\",k, \" cost:\", interia\n",
    " "
   ]
  },
  {
   "cell_type": "code",
   "execution_count": null,
   "metadata": {},
   "outputs": [],
   "source": [
    "kmeans_model = KMeans(n_clusters=k, random_state=1).fit(dfN)\n"
   ]
  }
 ],
 "metadata": {
  "kernelspec": {
   "display_name": "Python 2",
   "language": "python",
   "name": "python2"
  },
  "language_info": {
   "codemirror_mode": {
    "name": "ipython",
    "version": 2
   },
   "file_extension": ".py",
   "mimetype": "text/x-python",
   "name": "python",
   "nbconvert_exporter": "python",
   "pygments_lexer": "ipython2",
   "version": "2.7.17"
  }
 },
 "nbformat": 4,
 "nbformat_minor": 2
}
